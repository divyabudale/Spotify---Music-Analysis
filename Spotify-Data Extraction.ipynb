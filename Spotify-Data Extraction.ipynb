{
 "cells": [
  {
   "cell_type": "code",
   "execution_count": 1,
   "metadata": {},
   "outputs": [],
   "source": [
    "import spotipy\n",
    "from spotipy.oauth2 import SpotifyClientCredentials #To access authorised Spotify data\n",
    "\n",
    "from bs4 import BeautifulSoup\n",
    "import urllib.request\n",
    "import pandas as pd\n",
    "import time\n",
    "from requests import get\n",
    "import os\n",
    "import datetime\n",
    "from io import StringIO"
   ]
  },
  {
   "cell_type": "code",
   "execution_count": 2,
   "metadata": {},
   "outputs": [],
   "source": [
    "client_id = '##############################'\n",
    "client_secret = '##############################'"
   ]
  },
  {
   "cell_type": "code",
   "execution_count": 3,
   "metadata": {},
   "outputs": [],
   "source": [
    "client_credentials_manager = SpotifyClientCredentials(client_id=client_id, client_secret=client_secret)\n",
    "sp = spotipy.Spotify(client_credentials_manager=client_credentials_manager) #spotify object to access API"
   ]
  },
  {
   "cell_type": "code",
   "execution_count": 4,
   "metadata": {},
   "outputs": [],
   "source": [
    "start_date = datetime.date(2019,1,1)\n",
    "end_date = datetime.date(2020,6,1)"
   ]
  },
  {
   "cell_type": "code",
   "execution_count": 5,
   "metadata": {},
   "outputs": [],
   "source": [
    "BASE_URL='https://spotifycharts.com'"
   ]
  },
  {
   "cell_type": "markdown",
   "metadata": {},
   "source": [
    "# Extracting Top 200 Songs from Jan 2019 to Jun 2020"
   ]
  },
  {
   "cell_type": "code",
   "execution_count": null,
   "metadata": {},
   "outputs": [],
   "source": [
    "final_df = pd.DataFrame()\n",
    "while start_date<end_date:\n",
    "    print(f'Reading file for {start_date}')\n",
    "    url = 'https://spotifycharts.com/regional/us/daily/%s' %start_date.strftime('%Y-%m-%d')\n",
    "    get_page = get(url)#, headers = hdr)\n",
    "    get_soup = BeautifulSoup(get_page.content, 'html.parser')\n",
    "    get_url = BASE_URL+get_soup.find('div').find('a',attrs={'class':'header-csv'}).attrs['href']\n",
    "    get_file = get(get_url)\n",
    "    fileobj = StringIO(get_file.text)\n",
    "    df = pd.read_csv(fileobj, header=1)\n",
    "    df['date'] = start_date\n",
    "    df['region'] = 'USA'\n",
    "    df['track_id'] = df['URL'].str[-22:]\n",
    "    final_df = final_df.append(df)\n",
    "    final_df.to_csv('spotify_2019_2020_top200.csv', index=False)\n",
    "    start_date += datetime.timedelta(1)"
   ]
  },
  {
   "cell_type": "markdown",
   "metadata": {},
   "source": [
    "# Extracting Track Feature Information"
   ]
  },
  {
   "cell_type": "code",
   "execution_count": null,
   "metadata": {},
   "outputs": [],
   "source": [
    "%%time\n",
    "track_features = pd.DataFrame()\n",
    "for keys, tracks in enumerate(final_df.track_id.unique()):\n",
    "    print(f'Reading features for track - {keys}')\n",
    "    tf = sp.audio_features(tracks)\n",
    "    tf = pd.DataFrame(tf)\n",
    "    tf['track_id']=tracks\n",
    "    track_features = track_features.append(tf)\n",
    "    track_features.to_csv('track_features.csv', index=False)"
   ]
  },
  {
   "cell_type": "markdown",
   "metadata": {},
   "source": [
    "# Extracting Artist Information"
   ]
  },
  {
   "cell_type": "code",
   "execution_count": null,
   "metadata": {},
   "outputs": [],
   "source": [
    "%%time\n",
    "artist_features = pd.DataFrame()\n",
    "for keys, name in enumerate(final_df.Artist.unique()):\n",
    "    print(f'Reading features for artist - {keys} - {name}')\n",
    "    results = sp.search(q='artist:' + name, type='artist')\n",
    "    #assume first search result is the artist we want\n",
    "    try:\n",
    "        if results['artists']['items'][0]['name'] == name:\n",
    "            artist = {}\n",
    "            artist['artist'] = results['artists']['items'][0]['name']\n",
    "            artist['genres'] = results['artists']['items'][0]['genres']\n",
    "            artist['popularity'] = results['artists']['items'][0]['popularity']\n",
    "            artist['followers'] = results['artists']['items'][0]['followers']['total']\n",
    "            artist['artist_id'] = results['artists']['items'][0]['uri'][-22:]\n",
    "            artist = pd.DataFrame.from_dict(artist)\n",
    "            artist_features = artist_features.append(artist)\n",
    "            artist_features.to_csv('artist_features.csv', index=False)\n",
    "    except:\n",
    "        print(f'No features for artist - {name}')\n",
    "        artist_features = artist_features.append(artist)\n",
    "        artist_features.to_csv('artist_features.csv', index=False)"
   ]
  }
 ],
 "metadata": {
  "kernelspec": {
   "display_name": "Python 3",
   "language": "python",
   "name": "python3"
  },
  "language_info": {
   "codemirror_mode": {
    "name": "ipython",
    "version": 3
   },
   "file_extension": ".py",
   "mimetype": "text/x-python",
   "name": "python",
   "nbconvert_exporter": "python",
   "pygments_lexer": "ipython3",
   "version": "3.6.5"
  }
 },
 "nbformat": 4,
 "nbformat_minor": 2
}
